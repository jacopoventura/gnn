{
 "cells": [
  {
   "cell_type": "markdown",
   "id": "d79e79a9",
   "metadata": {},
   "source": [
    "# Graph definition with NetworkX\n",
    "\n",
    "Source: https://www.youtube.com/watch?v=h08RW3AIBVg\n",
    "\n",
    "NetworkX: library for creation, manipulation, and study of networks"
   ]
  },
  {
   "cell_type": "code",
   "execution_count": null,
   "id": "139a7bb3",
   "metadata": {},
   "outputs": [],
   "source": [
    "import networkx as nx\n",
    "import numpy as np\n",
    "from helper_graph import *"
   ]
  },
  {
   "cell_type": "markdown",
   "id": "9d811961",
   "metadata": {},
   "source": [
    "## Part 1: basic graph definition and plot"
   ]
  },
  {
   "cell_type": "code",
   "execution_count": null,
   "id": "0b40411e",
   "metadata": {},
   "outputs": [],
   "source": [
    "# initialize the graph\n",
    "G = nx.Graph()\n",
    "print(type(G))"
   ]
  },
  {
   "cell_type": "code",
   "execution_count": null,
   "id": "14e26714",
   "metadata": {},
   "outputs": [],
   "source": [
    "G_complete = nx.complete_graph(10)\n",
    "nx.draw(G_complete, with_labels = True, font_weight = \"bold\")"
   ]
  },
  {
   "cell_type": "code",
   "execution_count": null,
   "id": "9b0789be",
   "metadata": {},
   "outputs": [],
   "source": [
    "nx.draw_circular(G_complete, with_labels = True, font_weight = \"bold\")"
   ]
  },
  {
   "cell_type": "code",
   "execution_count": null,
   "id": "8c3b0a74",
   "metadata": {},
   "outputs": [],
   "source": [
    "# add a node to the graph\n",
    "G.add_node(1)\n",
    "nx.draw(G, with_labels = True, font_weight = \"bold\")\n",
    "\n",
    "# Print the number of nodes and edges\n",
    "print(\"Number of nodes: \", G.number_of_nodes())\n",
    "print(\"Number of edges: \", G.number_of_edges())\n",
    "print(\"Nodes: \", G.nodes())\n",
    "print(\"Edges: \", G.edges())"
   ]
  },
  {
   "cell_type": "code",
   "execution_count": null,
   "id": "3b586b61",
   "metadata": {},
   "outputs": [],
   "source": [
    "# add the following nodes: 1,2,3,4,5\n",
    "# Note: nodes in the graph are a set -> node with value 1 already existing\n",
    "G.add_nodes_from([1, 2, 3, 4, 5])\n",
    "nx.draw(G, with_labels = True)"
   ]
  },
  {
   "cell_type": "code",
   "execution_count": null,
   "id": "bb8dd3de",
   "metadata": {},
   "outputs": [],
   "source": [
    "# create a graph from a list (like range(10))\n",
    "H = nx.path_graph(10)\n",
    "\n",
    "# include the graph H into graph G\n",
    "G.add_nodes_from(H)\n",
    "nx.draw(G, with_labels = True)"
   ]
  },
  {
   "cell_type": "code",
   "execution_count": null,
   "id": "2897d2cc",
   "metadata": {},
   "outputs": [],
   "source": [
    "# Add an edge between node 1 and 2\n",
    "# add a single edge\n",
    "G.add_edge(1,2)\n",
    "nx.draw(G, with_labels = True)"
   ]
  },
  {
   "cell_type": "code",
   "execution_count": null,
   "id": "befba992",
   "metadata": {},
   "outputs": [],
   "source": [
    "# add a list of edges\n",
    "G.add_edges_from([(1,2), (1,3)])\n",
    "nx.draw(G, with_labels = True)"
   ]
  },
  {
   "cell_type": "code",
   "execution_count": null,
   "id": "18744896",
   "metadata": {},
   "outputs": [],
   "source": [
    "# empty graph\n",
    "G.clear()\n",
    "nx.draw(G)"
   ]
  },
  {
   "cell_type": "code",
   "execution_count": null,
   "id": "ad225706",
   "metadata": {},
   "outputs": [],
   "source": [
    "# create a graph from a list of edges\n",
    "E = [(1,2), (2,3), (1,4), (4,2)]\n",
    "G.add_edges_from(E)\n",
    "nx.draw(G, with_labels = True)\n",
    "G.number_of_nodes()"
   ]
  },
  {
   "cell_type": "code",
   "execution_count": null,
   "id": "39424baf",
   "metadata": {},
   "outputs": [],
   "source": [
    "# degree (number of edges) of the nodes\n",
    "print(\"Degree: number of in and out edges\")\n",
    "for v in G.nodes():\n",
    "    print(f\" Node {v} degree is {G.degree(v)}\")\n"
   ]
  },
  {
   "cell_type": "code",
   "execution_count": null,
   "id": "e021e02d",
   "metadata": {},
   "outputs": [],
   "source": [
    "# print each node's neighbors\n",
    "print(f\"Neighbors for nodes: { {v: list(G.neighbors(v)) for v in G.nodes }}\")"
   ]
  },
  {
   "cell_type": "markdown",
   "id": "d3d4c452",
   "metadata": {},
   "source": [
    "## Part 2: different types of graph\n",
    "\n",
    "\n",
    "### 1. Directed graph: each edge has a direction"
   ]
  },
  {
   "cell_type": "code",
   "execution_count": null,
   "id": "31f16fdf",
   "metadata": {},
   "outputs": [],
   "source": [
    "G_directed = nx.DiGraph()\n",
    "V = [1,2,3,4,5,6,7]\n",
    "# Edge (out_node, in_node)\n",
    "E = [(1,2), (1,3), (2,3), (2,4), (3,6), (4,5), (4,7),(5,7), (5,6)]\n",
    "\n",
    "G_directed.add_nodes_from(V)\n",
    "G_directed.add_edges_from(E)\n",
    "\n",
    "# calculate in- and out- degrees of each node\n",
    "print(f\"In-degree for nodes: { {v: G_directed.in_degree(v) for v in G_directed.nodes} }\")\n",
    "print(f\"Out-degree for nodes: { {v: G_directed.out_degree(v) for v in G_directed.nodes} }\")\n",
    "\n",
    "#nx.draw(G_directed, with_labels = True)\n",
    "plot_graph(G_directed, pos_nodes=nx.shell_layout(G_directed), node_size=800)"
   ]
  },
  {
   "cell_type": "markdown",
   "id": "1a12de62",
   "metadata": {},
   "source": [
    "### 2. Weighted graphs"
   ]
  },
  {
   "cell_type": "code",
   "execution_count": null,
   "id": "5cf0da56",
   "metadata": {},
   "outputs": [],
   "source": [
    "G_weighted = nx.DiGraph()\n",
    "V = [1,2,3,4,5,6,7]\n",
    "# Edge (out_node, in_node, weight of the edge)\n",
    "E = [(1,2, 4), (1,3,5), (2,3,6), (2,4,7), (3,6,8), (4,5,9), (4,7,1),(5,7,2), (5,6,3), (1,7,2), (7,6,2)]\n",
    "G_weighted.add_nodes_from(V)\n",
    "G_weighted.add_weighted_edges_from(E)\n",
    "#nx.draw(G_weighted, with_labels = True)\n",
    "\n",
    "plot_graph(G_weighted, pos_nodes=nx.shell_layout(G_directed), node_size=800, \n",
    "        show_edge_weights=True)\n",
    "\n",
    "# get shortest path from one node to another\n",
    "shortest_path = nx.shortest_path(G_weighted, source=1, target=6)\n",
    "list(shortest_path)"
   ]
  },
  {
   "cell_type": "markdown",
   "id": "b27a53d8",
   "metadata": {},
   "source": [
    "### 3. Undirected graph"
   ]
  },
  {
   "cell_type": "code",
   "execution_count": null,
   "id": "c4f8698d",
   "metadata": {},
   "outputs": [],
   "source": [
    "G_undirected = nx.Graph()\n",
    "V = [1,2,3,4,5,6,7]\n",
    "# Edge (node1, node2)\n",
    "E = [(1,2), (1,3), (2,3), (2,4), (3,6), (4,5), (4,7),(5,7), (5,6)]\n",
    "\n",
    "G_undirected.add_nodes_from(V)\n",
    "G_undirected.add_edges_from(E)\n",
    "nx.draw(G_undirected, with_labels = True)"
   ]
  },
  {
   "cell_type": "markdown",
   "id": "03b23ddd",
   "metadata": {},
   "source": [
    "### 4. attributed graph"
   ]
  },
  {
   "cell_type": "code",
   "execution_count": null,
   "id": "868212a7",
   "metadata": {},
   "outputs": [],
   "source": [
    "# initialize undirected graph\n",
    "G_attributed = nx.DiGraph()\n",
    "\n",
    "# set attribute of the graph\n",
    "G_attributed.graph[\"Name\"]=\"My graph\"\n",
    "G_attributed.graph[\"ID\"]=1\n",
    "\n",
    "# set nodes with features (attributes)\n",
    "# Note: alternatively, we can use add_node_from() by providing a List of tuples \n",
    "# with first element node name and second element a dict with the features\n",
    "#G.add_node_from([(\"A\", {age:19, gender:\"F\"}),\n",
    "#                (\"B\", {age:20, gender:\"M\"}),\n",
    "#                 (\"C\", {age:35, gender:\"F\"}),\n",
    "#                 (\"D\", {age:35, gender:\"M\"}),\n",
    "#                 (\"E\", {age:50, gender:\"F\"})])\n",
    "\n",
    "G_attributed.add_node(\"A\", age=19, gender=\"F\")\n",
    "G_attributed.add_node(\"B\", age=20, gender=\"M\")\n",
    "G_attributed.add_node(\"C\", age=35, gender=\"F\")\n",
    "G_attributed.add_node(\"D\", age=35, gender=\"M\")\n",
    "G_attributed.add_node(\"E\", age=50, gender=\"-\")\n",
    "\n",
    "# set edges with attributes\n",
    "G_attributed.add_edge(\"A\",\"B\", line=\"dot\")\n",
    "G_attributed.add_edge(\"B\",\"C\", line=\"no\")\n",
    "           \n",
    "\n",
    "#set edges\n",
    "#G_attributed.add_edges_from([\"AC\", \"BC\", \"BD\", \"CD\", \"DE\"])\n",
    "\n",
    "# set positions of nodes ONL FOR PLOTTING\n",
    "pos={\"A\": (1,5),\n",
    "     \"B\": (4,6),\n",
    "     \"C\": (3,1),\n",
    "     \"D\": (6,4),\n",
    "     \"E\": (8,4)    \n",
    "}\n",
    "\n",
    "# access attributes\n",
    "print(G_attributed.graph)\n",
    "print(G_attributed.nodes[\"A\"])\n",
    "print(G_attributed.edges[(\"A\",\"B\")])\n",
    "\n",
    "\n",
    "plot_graph(G_attributed, pos_nodes=nx.shell_layout(G_attributed), \n",
    "           node_size=800, show_node_id = False, show_node_attributes=True, show_edge_attributes=True)"
   ]
  },
  {
   "cell_type": "markdown",
   "id": "8064155b",
   "metadata": {},
   "source": [
    "## Part 3: Adjacency matrix"
   ]
  },
  {
   "cell_type": "code",
   "execution_count": null,
   "id": "49388d2f",
   "metadata": {},
   "outputs": [],
   "source": [
    "# Adjacency matrix can be printed as pandas DataFrame or numpy matrix \n",
    "\n",
    "# pandas\n",
    "nx.to_pandas_adjacency(G)"
   ]
  },
  {
   "cell_type": "code",
   "execution_count": null,
   "id": "210839e4",
   "metadata": {},
   "outputs": [],
   "source": [
    "# numpy\n",
    "nx.to_numpy_array(G)"
   ]
  },
  {
   "cell_type": "code",
   "execution_count": null,
   "id": "776753cf",
   "metadata": {},
   "outputs": [],
   "source": [
    "# get paths from one node to another\n",
    "nx.draw(G, with_labels = True)\n",
    "path = nx.all_simple_paths(G, source=3, target=1)\n",
    "list(path)"
   ]
  },
  {
   "cell_type": "code",
   "execution_count": null,
   "id": "8d32a2f8",
   "metadata": {},
   "outputs": [],
   "source": [
    "shortest_path = nx.shortest_path(G, source=3, target=1)\n",
    "list(shortest_path)"
   ]
  },
  {
   "cell_type": "code",
   "execution_count": null,
   "id": "789a0f88",
   "metadata": {},
   "outputs": [],
   "source": [
    "# compute the graph centrality\n",
    "# Centrality: fraction of nodes it is connected to.\n",
    "print(nx.degree_centrality(G))\n",
    "\n",
    "# Betweenness centrality\n",
    "print(nx.betweenness_centrality(G))\n",
    "\n",
    "# Eigenvector centrality\n",
    "print(nx.eigenvector_centrality(G))"
   ]
  },
  {
   "cell_type": "markdown",
   "id": "c09e6504",
   "metadata": {},
   "source": [
    "## Part 4: graph with features"
   ]
  },
  {
   "cell_type": "code",
   "execution_count": null,
   "id": "02b53123",
   "metadata": {},
   "outputs": [],
   "source": [
    "G.clear()\n",
    "G.add_node('p1', name='John Doe', age=40)\n",
    "G.add_node('p2', name=\"Jacy\", age=30)"
   ]
  },
  {
   "cell_type": "code",
   "execution_count": null,
   "id": "d556e00b",
   "metadata": {},
   "outputs": [],
   "source": [
    "import pylab\n",
    "labels = nx.get_node_attributes(G, 'size') \n",
    "nx.draw(G,labels=labels,node_size=1000)\n",
    "pylab.show()"
   ]
  },
  {
   "cell_type": "code",
   "execution_count": null,
   "id": "df83e96d",
   "metadata": {},
   "outputs": [],
   "source": []
  },
  {
   "cell_type": "code",
   "execution_count": null,
   "id": "4ff55309",
   "metadata": {},
   "outputs": [],
   "source": []
  }
 ],
 "metadata": {
  "kernelspec": {
   "display_name": "Python 3 (ipykernel)",
   "language": "python",
   "name": "python3"
  },
  "language_info": {
   "codemirror_mode": {
    "name": "ipython",
    "version": 3
   },
   "file_extension": ".py",
   "mimetype": "text/x-python",
   "name": "python",
   "nbconvert_exporter": "python",
   "pygments_lexer": "ipython3",
   "version": "3.10.8"
  }
 },
 "nbformat": 4,
 "nbformat_minor": 5
}

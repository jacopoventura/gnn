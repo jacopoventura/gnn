{
 "cells": [
  {
   "cell_type": "markdown",
   "id": "5c7273f8",
   "metadata": {},
   "source": [
    "## Graph Embedding\n",
    "\n",
    "embedding: graph's nodes and edges are represented as vectors \n",
    "Source: https://www.youtube.com/watch?v=h08RW3AIBVg"
   ]
  },
  {
   "cell_type": "code",
   "execution_count": 20,
   "id": "0edd980d",
   "metadata": {},
   "outputs": [],
   "source": [
    "import numpy as np\n",
    "import networkx as nx\n",
    "import random\n",
    "import matplotlib.pyplot as plt\n",
    "from typing import List\n",
    "from tqdm import tqdm\n",
    "from gensim.models.word2vec import Word2Vec\n",
    "from IPython.display import display\n",
    "from PIL import Image\n",
    "from collections import defaultdict"
   ]
  },
  {
   "cell_type": "code",
   "execution_count": 13,
   "id": "402f1ef3",
   "metadata": {},
   "outputs": [],
   "source": [
    "def compute_probabilities(graph, probs, p, q):\n",
    "    \"\"\"\n",
    "    graph:input graph\n",
    "    probs: empty probability dict\n",
    "    p: return parameter\n",
    "    q: in-out parameter\n",
    "    \"\"\"\n",
    "    \n",
    "    for source_node in graph.nodes():\n",
    "        for current_node in graph.neighbors(source_node):\n",
    "            probs_ = list()\n",
    "            for destination in graph.neighbors(current_node):\n",
    "                \n",
    "                if source_node == destination:\n",
    "                    prob_ = graph[current_node][destination].get('weight', 1) * (1/p)\n",
    "                elif destination in graph.neighbors(source_node):\n",
    "                    prob_ = graph[current_node][destination].get('weight', 1)\n",
    "                else:\n",
    "                    prob_ = graph[current_node][destination].get('weight', 1) * (1/q)\n",
    "                    \n",
    "                probs_.append(prob_)\n",
    "            probs[source_node]['probabilities'][current_node] = probs_ / np.sum(probs_)\n",
    "            \n",
    "    return probs"
   ]
  },
  {
   "cell_type": "code",
   "execution_count": 16,
   "id": "93a7b3d6",
   "metadata": {},
   "outputs": [],
   "source": [
    "def generate_random_walks(graph, probs, max_walks, walk_len):\n",
    "    \n",
    "    \n",
    "    walks = list()\n",
    "    for start_node in graph.nodes():\n",
    "        for i in range(max_walks):\n",
    "            \n",
    "            walk = [start_node]\n",
    "            walk_options = list(graph[start_node])\n",
    "            if len(walk_options)==0:\n",
    "                break\n",
    "            first_step = np.random.choice(walk_options)\n",
    "            walk.append(first_step)\n",
    "            \n",
    "            for k in range(walk_len - 2):\n",
    "                walk_options = list(graph[walk[---1]])\n",
    "                if len(walk_options)==0:\n",
    "                    break\n",
    "                probabilities = probs[walk[-2]]['probabilities'][walk[-1]]\n",
    "                next_step = np.random.choice(walk_options, p=probabilities)\n",
    "                walk.append(next_step)\n",
    "            walks.append(walk)\n",
    "    np.random.shuffle(walks)\n",
    "    walks = [list(map(str,walk)) for walk in walks]\n",
    "    \n",
    "    return walks"
   ]
  },
  {
   "cell_type": "code",
   "execution_count": 26,
   "id": "c8c8c832",
   "metadata": {},
   "outputs": [],
   "source": [
    "def Node2Vec(generated_walks, window_size, embedding_vector_size):\n",
    "    model = Word2Vec(sentences=generated_walks, window = window_size, vector_size=embedding_vector_size)\n",
    "    return model.wv"
   ]
  },
  {
   "cell_type": "code",
   "execution_count": 18,
   "id": "1ca61bba",
   "metadata": {},
   "outputs": [],
   "source": [
    "G = nx.karate_club_graph()"
   ]
  },
  {
   "cell_type": "code",
   "execution_count": 21,
   "id": "a5452c42",
   "metadata": {},
   "outputs": [],
   "source": [
    "probs = defaultdict(dict)\n",
    "for node in G.nodes():\n",
    "    probs[node]['probabilities'] = dict()"
   ]
  },
  {
   "cell_type": "code",
   "execution_count": 22,
   "id": "056fe418",
   "metadata": {},
   "outputs": [
    {
     "data": {
      "text/plain": [
       "defaultdict(dict,\n",
       "            {0: {'probabilities': {}},\n",
       "             1: {'probabilities': {}},\n",
       "             2: {'probabilities': {}},\n",
       "             3: {'probabilities': {}},\n",
       "             4: {'probabilities': {}},\n",
       "             5: {'probabilities': {}},\n",
       "             6: {'probabilities': {}},\n",
       "             7: {'probabilities': {}},\n",
       "             8: {'probabilities': {}},\n",
       "             9: {'probabilities': {}},\n",
       "             10: {'probabilities': {}},\n",
       "             11: {'probabilities': {}},\n",
       "             12: {'probabilities': {}},\n",
       "             13: {'probabilities': {}},\n",
       "             14: {'probabilities': {}},\n",
       "             15: {'probabilities': {}},\n",
       "             16: {'probabilities': {}},\n",
       "             17: {'probabilities': {}},\n",
       "             18: {'probabilities': {}},\n",
       "             19: {'probabilities': {}},\n",
       "             20: {'probabilities': {}},\n",
       "             21: {'probabilities': {}},\n",
       "             22: {'probabilities': {}},\n",
       "             23: {'probabilities': {}},\n",
       "             24: {'probabilities': {}},\n",
       "             25: {'probabilities': {}},\n",
       "             26: {'probabilities': {}},\n",
       "             27: {'probabilities': {}},\n",
       "             28: {'probabilities': {}},\n",
       "             29: {'probabilities': {}},\n",
       "             30: {'probabilities': {}},\n",
       "             31: {'probabilities': {}},\n",
       "             32: {'probabilities': {}},\n",
       "             33: {'probabilities': {}}})"
      ]
     },
     "execution_count": 22,
     "metadata": {},
     "output_type": "execute_result"
    }
   ],
   "source": [
    "probs"
   ]
  },
  {
   "cell_type": "code",
   "execution_count": 24,
   "id": "f8e2c2c6",
   "metadata": {},
   "outputs": [],
   "source": [
    "cp = compute_probabilities(G, probs, 1, 1)\n",
    "walks = generate_random_walks(G, cp,5,10)"
   ]
  },
  {
   "cell_type": "code",
   "execution_count": 27,
   "id": "e58f59de",
   "metadata": {},
   "outputs": [],
   "source": [
    "# generate embeddings\n",
    "n2v_emb = Node2Vec(walks,20,20)"
   ]
  },
  {
   "cell_type": "code",
   "execution_count": null,
   "id": "cce997bb",
   "metadata": {},
   "outputs": [],
   "source": []
  }
 ],
 "metadata": {
  "kernelspec": {
   "display_name": "Python 3 (ipykernel)",
   "language": "python",
   "name": "python3"
  },
  "language_info": {
   "codemirror_mode": {
    "name": "ipython",
    "version": 3
   },
   "file_extension": ".py",
   "mimetype": "text/x-python",
   "name": "python",
   "nbconvert_exporter": "python",
   "pygments_lexer": "ipython3",
   "version": "3.10.8"
  }
 },
 "nbformat": 4,
 "nbformat_minor": 5
}

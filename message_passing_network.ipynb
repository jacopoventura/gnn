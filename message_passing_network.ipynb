{
 "cells": [
  {
   "cell_type": "markdown",
   "id": "dae3dbf1",
   "metadata": {},
   "source": [
    "## Tutorial\n",
    "\n",
    "Source: https://pytorch-geometric.readthedocs.io/en/latest/tutorial/create_gnn.html\n",
    "\n",
    "![image](images/intro_message_passing.png)\n",
    "\n",
    "*N*(*i*) represents the neighbors of the node *i*.\n",
    "\n",
    "It works as follows:\n",
    "1. first, a **differentiable** function is used to \"embed\" the features of the selected node *i*, the neighbor node *j* and the edge *i,j*\n",
    "2. a **permutation invariant** function is used to aggregate all the embedded features (this is the **aggregation scheme**)\n",
    "3. finally, an **update** function is used to update the feature vector **x**_i of the selected node *i*"
   ]
  },
  {
   "cell_type": "markdown",
   "id": "9e5aac0b",
   "metadata": {},
   "source": [
    "PyG tutorial: https://pytorch-geometric.readthedocs.io/en/latest/"
   ]
  },
  {
   "cell_type": "code",
   "execution_count": null,
   "id": "c14faa47",
   "metadata": {},
   "outputs": [],
   "source": []
  }
 ],
 "metadata": {
  "kernelspec": {
   "display_name": "Python 3 (ipykernel)",
   "language": "python",
   "name": "python3"
  },
  "language_info": {
   "codemirror_mode": {
    "name": "ipython",
    "version": 3
   },
   "file_extension": ".py",
   "mimetype": "text/x-python",
   "name": "python",
   "nbconvert_exporter": "python",
   "pygments_lexer": "ipython3",
   "version": "3.10.8"
  }
 },
 "nbformat": 4,
 "nbformat_minor": 5
}

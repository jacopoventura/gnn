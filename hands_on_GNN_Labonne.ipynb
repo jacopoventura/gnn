{
 "cells": [
  {
   "cell_type": "markdown",
   "id": "15e863e2",
   "metadata": {},
   "source": [
    "# Hands-on on GNN using python (1st ed), M. Labonne\n",
    "\n",
    "## Chapter 1: intro\n",
    "\n",
    "**Why graphs?**: graphs represent <ins>entities with their relationships</ins>\n",
    "\n",
    "**Graph learning**: machine learning applied to graph for\n",
    "- node classification\n",
    "- link prediction\n",
    "- graph classification\n",
    "- graph prediction\n",
    "\n",
    "There are **4 families of graph learning**:\n",
    "1. graph signal processing\n",
    "2. matrix factorization\n",
    "3. random walk\n",
    "4. deep learning: **very effective for graph becasue they process info from neighboring nodes and edges**\n",
    "\n",
    "## Chapter 2: graph theory"
   ]
  },
  {
   "cell_type": "code",
   "execution_count": null,
   "id": "5606cd9b",
   "metadata": {},
   "outputs": [],
   "source": []
  }
 ],
 "metadata": {
  "kernelspec": {
   "display_name": "Python 3 (ipykernel)",
   "language": "python",
   "name": "python3"
  },
  "language_info": {
   "codemirror_mode": {
    "name": "ipython",
    "version": 3
   },
   "file_extension": ".py",
   "mimetype": "text/x-python",
   "name": "python",
   "nbconvert_exporter": "python",
   "pygments_lexer": "ipython3",
   "version": "3.10.8"
  }
 },
 "nbformat": 4,
 "nbformat_minor": 5
}
